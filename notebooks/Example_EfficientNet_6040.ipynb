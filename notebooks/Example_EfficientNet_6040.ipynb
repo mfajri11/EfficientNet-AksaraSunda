{
  "cells": [
    {
      "cell_type": "code",
      "execution_count": null,
      "metadata": {
        "colab": {
          "base_uri": "https://localhost:8080/"
        },
        "id": "fjjn3AmcF8Qd",
        "outputId": "16b9e2ec-7b94-4ff5-c96a-dba3f384538b"
      },
      "outputs": [
        {
          "name": "stdout",
          "output_type": "stream",
          "text": [
            "Drive already mounted at /content/drive/; to attempt to forcibly remount, call drive.mount(\"/content/drive/\", force_remount=True).\n"
          ]
        }
      ],
      "source": [
        "from google.colab import drive\n",
        "drive.mount('/content/drive/')"
      ]
    },
    {
      "cell_type": "code",
      "execution_count": null,
      "metadata": {
        "colab": {
          "base_uri": "https://localhost:8080/"
        },
        "id": "qut4bFVMGJGh",
        "outputId": "20c6ff75-743e-4cee-8841-7065d4e21e47"
      },
      "outputs": [
        {
          "name": "stdout",
          "output_type": "stream",
          "text": [
            "Looking in indexes: https://pypi.org/simple, https://us-python.pkg.dev/colab-wheels/public/simple/\n",
            "Requirement already satisfied: split-folders in /usr/local/lib/python3.7/dist-packages (0.5.1)\n",
            "Looking in indexes: https://pypi.org/simple, https://us-python.pkg.dev/colab-wheels/public/simple/\n",
            "Requirement already satisfied: torchinfo in /usr/local/lib/python3.7/dist-packages (1.7.1)\n"
          ]
        }
      ],
      "source": [
        "# install thrid party lib which not include on colab\n",
        "!pip3 install split-folders\n",
        "!pip install torchinfo\n"
      ]
    },
    {
      "cell_type": "code",
      "execution_count": null,
      "metadata": {
        "id": "LMPTpgDUGNNL"
      },
      "outputs": [],
      "source": [
        "# import necessery package\n",
        "import os\n",
        "import sys\n",
        "import time\n",
        "# from torchvision import transforms"
      ]
    },
    {
      "cell_type": "code",
      "execution_count": null,
      "metadata": {
        "colab": {
          "base_uri": "https://localhost:8080/",
          "height": 35
        },
        "id": "u5wu_KglGQkx",
        "outputId": "dbd05d14-980f-45d4-d90f-dfb15a36cba0"
      },
      "outputs": [
        {
          "data": {
            "application/vnd.google.colaboratory.intrinsic+json": {
              "type": "string"
            },
            "text/plain": [
              "'/content/drive/MyDrive/dl/efficientNet'"
            ]
          },
          "execution_count": 4,
          "metadata": {},
          "output_type": "execute_result"
        }
      ],
      "source": [
        "# change to project path\n",
        "eff_project_path = './drive/MyDrive/dl/efficientNet'\n",
        "os.chdir(eff_project_path)\n",
        "os.getcwd()"
      ]
    },
    {
      "cell_type": "code",
      "execution_count": null,
      "metadata": {
        "colab": {
          "base_uri": "https://localhost:8080/"
        },
        "id": "HHK6I5svGSBf",
        "outputId": "eb9df8f3-2f1b-4ddf-ad9c-2a1938c5f2d5"
      },
      "outputs": [
        {
          "data": {
            "text/plain": [
              "['./src',\n",
              " '/content',\n",
              " '/env/python',\n",
              " '/usr/lib/python37.zip',\n",
              " '/usr/lib/python3.7',\n",
              " '/usr/lib/python3.7/lib-dynload',\n",
              " '',\n",
              " '/usr/local/lib/python3.7/dist-packages',\n",
              " '/usr/lib/python3/dist-packages',\n",
              " '/usr/local/lib/python3.7/dist-packages/IPython/extensions',\n",
              " '/root/.ipython']"
            ]
          },
          "execution_count": 5,
          "metadata": {},
          "output_type": "execute_result"
        }
      ],
      "source": [
        "# add my module to sys.path so it can be imported by current notebook\n",
        "sys.path.insert(0, './src')\n",
        "sys.path"
      ]
    },
    {
      "cell_type": "code",
      "execution_count": null,
      "metadata": {
        "colab": {
          "base_uri": "https://localhost:8080/",
          "height": 375
        },
        "id": "ueKdL94fHCV6",
        "outputId": "c15e4f93-241c-4b72-f6da-6f26ea67cb73"
      },
      "outputs": [],
      "source": [
        "import torch\n",
        "import Model\n",
        "import utils\n",
        "from Controller import Controller\n",
        "from EarlyStopping import EarlyStopping\n",
        "from CheckPoint import CheckPoint\n",
        "from Plotting import Plotting\n",
        "import Config"
      ]
    },
    {
      "cell_type": "code",
      "execution_count": null,
      "metadata": {
        "id": "HDIidafvXK1i"
      },
      "outputs": [],
      "source": [
        "# aksara_sunda_path = './data/aksara_sunda'\n",
        "# # copy data to ./data/splitted/aksara_sunda/80_20\n",
        "# utils.split_image_folder(path=aksara_sunda_path, target_path='./data/splitted/aksara_sunda/', ratio='80/20')\n",
        "# print(f\"created train loader at : {train_loader}\")\n",
        "# print(f\"created test loader at : {test_loader}\")\n",
        "# print(f\"labels : {', '.join(classes)}\")"
      ]
    },
    {
      "cell_type": "markdown",
      "metadata": {
        "id": "DLboNZcvHVJ1"
      },
      "source": [
        "# PREPARING THE DATA"
      ]
    },
    {
      "cell_type": "code",
      "execution_count": null,
      "metadata": {
        "id": "Ve_O5mHEPBOr"
      },
      "outputs": [],
      "source": [
        "cnf = Config.load_config('./config/config.json')"
      ]
    },
    {
      "cell_type": "code",
      "execution_count": null,
      "metadata": {
        "id": "Tjf5TJ1oHZlw"
      },
      "outputs": [],
      "source": [
        "auto_transform = utils.get_EfficientNet_transform()\n",
        "train_loader, test_loader, classes = utils.create_data_loader(test_path='./data/splitted/aksara_sunda/60_40/test',\n",
        "                         train_path='./data/splitted/aksara_sunda/60_40/train',\n",
        "                         transform_func=auto_transform,\n",
        "                         batch_size=cnf.BATCH_SIZE,\n",
        "                         num_workers=2)"
      ]
    },
    {
      "cell_type": "code",
      "execution_count": null,
      "metadata": {
        "colab": {
          "base_uri": "https://localhost:8080/"
        },
        "id": "ieSjjTFkHjeE",
        "outputId": "e6201bce-cc80-40ca-ed41-a1ccf860e47a"
      },
      "outputs": [
        {
          "data": {
            "text/plain": [
              "device(type='cpu')"
            ]
          },
          "execution_count": 5,
          "metadata": {},
          "output_type": "execute_result"
        }
      ],
      "source": [
        "# check if gpu available\n",
        "device = torch.device(\"cuda:0\" if torch.cuda.is_available() else 'cpu')\n",
        "device"
      ]
    },
    {
      "cell_type": "markdown",
      "metadata": {
        "id": "9Q8mKme5IoqL"
      },
      "source": [
        "# PREPARING THE WORKER"
      ]
    },
    {
      "cell_type": "code",
      "execution_count": null,
      "metadata": {
        "id": "u_BWn43eIlzR"
      },
      "outputs": [],
      "source": [
        "cp = CheckPoint()\n",
        "ea = EarlyStopping(cnf=cnf, load_best_when_stop=cnf.LOAD_BEST, patience=cnf.PATIENCE, max_counter=cnf.ES_EPOCHS)\n",
        "model = Model.CustomEfficientNet(num_of_class=cnf.NUM_OF_CLASS, drop_out=cnf.DROP_OUT, device=device)\n",
        "optimizer = torch.optim.NAdam(model.parameters(), lr=cnf.LEARNING_RATE, weight_decay=cnf.WEIGHT_DECAY)\n",
        "loss_fn = torch.nn.CrossEntropyLoss()\n",
        "plotting = Plotting(cnf.PLOT_EVERY)"
      ]
    },
    {
      "cell_type": "code",
      "execution_count": null,
      "metadata": {
        "id": "m5QMMNeb4tHA"
      },
      "outputs": [],
      "source": [
        "# model.unfreeze()\n",
        "# utils.get_summary(model=model, batch_size=cnf.BATCH_SIZE, output_size=cnf.NUM_OF_CLASS)\n"
      ]
    },
    {
      "cell_type": "markdown",
      "metadata": {
        "id": "YgBILRAMJEql"
      },
      "source": [
        "# PREPARING THE CONTROLLER"
      ]
    },
    {
      "cell_type": "code",
      "execution_count": null,
      "metadata": {
        "id": "HYfjvFsTJBbc"
      },
      "outputs": [],
      "source": [
        "ctr = Controller(model=model, \n",
        "                 test_loader=test_loader,\n",
        "                 train_loader=train_loader,\n",
        "                 criterion=loss_fn,\n",
        "                 optimizer=optimizer,\n",
        "                 check_point = cp,\n",
        "                 config = cnf,\n",
        "                 early_stopping = ea,\n",
        "                 plotting=plotting, \n",
        "                 epochs=cnf.EPOCHS,\n",
        "                 device=device)"
      ]
    },
    {
      "cell_type": "markdown",
      "metadata": {
        "id": "lfKhzh_9JPKN"
      },
      "source": [
        "# ADAPTATION PHASE"
      ]
    },
    {
      "cell_type": "code",
      "execution_count": null,
      "metadata": {
        "colab": {
          "base_uri": "https://localhost:8080/",
          "height": 1000
        },
        "id": "axwAaEbOJODG",
        "outputId": "12046f8d-1cdd-4559-ba6c-1b036ae2f194"
      },
      "outputs": [
        {
          "name": "stdout",
          "output_type": "stream",
          "text": [
            "Epoch: 1/15 | test_acc: 0.7250    | test_cost: 0.0160    | train_acc: 0.5810    | train_cost: 0.0250  \n",
            "Epoch: 2/15 | test_acc: \u001b[92m0.8570 ⬆ \u001b[39m | test_cost: \u001b[91m0.0080 ⬇ \u001b[39m | train_acc: \u001b[92m0.7900 ⬆ \u001b[39m | train_cost: \u001b[91m0.0130 ⬇ \u001b[39m\n",
            "Epoch: 3/15 | test_acc: \u001b[92m0.8790 ⬆ \u001b[39m | test_cost: \u001b[91m0.0070 ⬇ \u001b[39m | train_acc: \u001b[92m0.8190 ⬆ \u001b[39m | train_cost: \u001b[91m0.0100 ⬇ \u001b[39m\n",
            "Epoch: 4/15 | test_acc: \u001b[91m0.8750 ⬇ \u001b[39m | test_cost: \u001b[91m0.0060 ⬇ \u001b[39m | train_acc: \u001b[92m0.8320 ⬆ \u001b[39m | train_cost: \u001b[91m0.0090 ⬇ \u001b[39m\n",
            "\u001b[91mEarlyStop Patience: 1 | best test_acc: 0.8790\u001b[39m\n",
            "Epoch: 5/15 | test_acc: \u001b[92m0.8930 ⬆ \u001b[39m | test_cost: \u001b[91m0.0050 ⬇ \u001b[39m | train_acc: \u001b[92m0.8430 ⬆ \u001b[39m | train_cost: \u001b[91m0.0080 ⬇ \u001b[39m\n",
            "\u001b[39mModel improve, EarlyStop patience reset to 0\u001b[39m\n",
            "Epoch: 6/15 | test_acc: \u001b[92m0.8990 ⬆ \u001b[39m | test_cost: 0.0050    | train_acc: \u001b[92m0.8470 ⬆ \u001b[39m | train_cost: 0.0080   \n",
            "Epoch: 7/15 | test_acc: \u001b[92m0.9020 ⬆ \u001b[39m | test_cost: 0.0050    | train_acc: \u001b[92m0.8590 ⬆ \u001b[39m | train_cost: \u001b[91m0.0070 ⬇ \u001b[39m\n",
            "Epoch: 8/15 | test_acc: \u001b[92m0.9050 ⬆ \u001b[39m | test_cost: 0.0050    | train_acc: \u001b[92m0.8620 ⬆ \u001b[39m | train_cost: 0.0070   \n",
            "Epoch: 9/15 | test_acc: \u001b[92m0.9190 ⬆ \u001b[39m | test_cost: \u001b[91m0.0040 ⬇ \u001b[39m | train_acc: \u001b[92m0.8750 ⬆ \u001b[39m | train_cost: 0.0070   \n",
            "Epoch: 10/15 | test_acc: \u001b[91m0.8900 ⬇ \u001b[39m | test_cost: \u001b[92m0.0050 ⬆ \u001b[39m | train_acc: \u001b[91m0.8700 ⬇ \u001b[39m | train_cost: 0.0070   \n",
            "\u001b[91mEarlyStop Patience: 1 | best test_acc: 0.9190\u001b[39m\n",
            "Epoch: 11/15 | test_acc: \u001b[92m0.9190 ⬆ \u001b[39m | test_cost: \u001b[91m0.0040 ⬇ \u001b[39m | train_acc: \u001b[91m0.8650 ⬇ \u001b[39m | train_cost: \u001b[91m0.0060 ⬇ \u001b[39m\n",
            "\u001b[91mEarlyStop Patience: 2 | best test_acc: 0.9190\u001b[39m\n",
            "Epoch: 12/15 | test_acc: \u001b[91m0.9140 ⬇ \u001b[39m | test_cost: 0.0040    | train_acc: \u001b[91m0.8620 ⬇ \u001b[39m | train_cost: \u001b[92m0.0070 ⬆ \u001b[39m\n",
            "\u001b[91mEarlyStop Patience: 3 | best test_acc: 0.9190\u001b[39m\n",
            "EarlyStop stop at 3 iteration on epoch 12\n",
            "Best test_acc: 0.9190\n",
            "Best model saved at ../output/model/weights_best.pth\n"
          ]
        },
        {
          "data": {
            "image/png": "[encoded data removed]",
            "text/plain": [
              "<Figure size 576x360 with 1 Axes>"
            ]
          },
          "metadata": {
            "needs_background": "light"
          },
          "output_type": "display_data"
        },
        {
          "data": {
            "image/png": "[encoded data removed]",
            "text/plain": [
              "<Figure size 576x360 with 1 Axes>"
            ]
          },
          "metadata": {
            "needs_background": "light"
          },
          "output_type": "display_data"
        },
        {
          "name": "stdout",
          "output_type": "stream",
          "text": [
            "running time: 416.6670 seconds\n"
          ]
        }
      ],
      "source": [
        "start = time.time()\n",
        "\n",
        "(ctr\n",
        ".adaptation()\n",
        ".with_early_stopping() \n",
        ".run())\n",
        "\n",
        "# (ctr\n",
        "#  .adaptation()\n",
        "#  .with_epoch()\n",
        "#  .run())\n",
        "\n",
        "print(f'running time: {(time.time() - start):.4f} seconds')"
      ]
    },
    {
      "cell_type": "markdown",
      "metadata": {
        "id": "sVfoFt2dJUsI"
      },
      "source": [
        "# FINE TUNNING"
      ]
    },
    {
      "cell_type": "code",
      "execution_count": null,
      "metadata": {
        "colab": {
          "base_uri": "https://localhost:8080/",
          "height": 1000
        },
        "id": "5jKlA_XhJXm8",
        "outputId": "817d2335-0d55-446d-df2f-3e724ab74ee2"
      },
      "outputs": [
        {
          "name": "stdout",
          "output_type": "stream",
          "text": [
            "Epoch: 1/100 | test_acc: 0.9170    | test_cost: 0.0040    | train_acc: 0.8820    | train_cost: 0.0060  \n",
            "\u001b[39mModel improve, EarlyStop patience reset to 0\u001b[39m\n",
            "Epoch: 2/100 | test_acc: \u001b[92m0.9340 ⬆ \u001b[39m | test_cost: \u001b[91m0.0030 ⬇ \u001b[39m | train_acc: \u001b[92m0.8920 ⬆ \u001b[39m | train_cost: 0.0060   \n",
            "Epoch: 3/100 | test_acc: 0.9340    | test_cost: 0.0030    | train_acc: \u001b[92m0.9030 ⬆ \u001b[39m | train_cost: \u001b[91m0.0050 ⬇ \u001b[39m\n",
            "\u001b[91mEarlyStop Patience: 1 | best test_acc: 0.9340\u001b[39m\n",
            "Epoch: 4/100 | test_acc: \u001b[92m0.9430 ⬆ \u001b[39m | test_cost: 0.0030    | train_acc: \u001b[92m0.9200 ⬆ \u001b[39m | train_cost: \u001b[91m0.0040 ⬇ \u001b[39m\n",
            "\u001b[39mModel improve, EarlyStop patience reset to 0\u001b[39m\n",
            "Epoch: 5/100 | test_acc: \u001b[92m0.9440 ⬆ \u001b[39m | test_cost: 0.0030    | train_acc: \u001b[92m0.9210 ⬆ \u001b[39m | train_cost: 0.0040   \n",
            "Epoch: 6/100 | test_acc: \u001b[92m0.9490 ⬆ \u001b[39m | test_cost: 0.0030    | train_acc: \u001b[92m0.9260 ⬆ \u001b[39m | train_cost: 0.0040   \n",
            "Epoch: 7/100 | test_acc: 0.9490    | test_cost: \u001b[91m0.0020 ⬇ \u001b[39m | train_acc: \u001b[92m0.9270 ⬆ \u001b[39m | train_cost: 0.0040   \n",
            "\u001b[91mEarlyStop Patience: 1 | best test_acc: 0.9490\u001b[39m\n",
            "Epoch: 8/100 | test_acc: \u001b[92m0.9520 ⬆ \u001b[39m | test_cost: 0.0020    | train_acc: \u001b[92m0.9330 ⬆ \u001b[39m | train_cost: 0.0040   \n",
            "\u001b[39mModel improve, EarlyStop patience reset to 0\u001b[39m\n",
            "Epoch: 9/100 | test_acc: \u001b[92m0.9560 ⬆ \u001b[39m | test_cost: 0.0020    | train_acc: \u001b[92m0.9380 ⬆ \u001b[39m | train_cost: \u001b[91m0.0030 ⬇ \u001b[39m\n",
            "Epoch: 10/100 | test_acc: \u001b[91m0.9550 ⬇ \u001b[39m | test_cost: 0.0020    | train_acc: \u001b[92m0.9420 ⬆ \u001b[39m | train_cost: 0.0030   \n",
            "\u001b[91mEarlyStop Patience: 1 | best test_acc: 0.9560\u001b[39m\n",
            "Epoch: 11/100 | test_acc: \u001b[92m0.9610 ⬆ \u001b[39m | test_cost: 0.0020    | train_acc: 0.9420    | train_cost: 0.0030   \n",
            "\u001b[39mModel improve, EarlyStop patience reset to 0\u001b[39m\n",
            "Epoch: 12/100 | test_acc: \u001b[91m0.9590 ⬇ \u001b[39m | test_cost: 0.0020    | train_acc: \u001b[92m0.9530 ⬆ \u001b[39m | train_cost: 0.0030   \n",
            "\u001b[91mEarlyStop Patience: 1 | best test_acc: 0.9610\u001b[39m\n",
            "Epoch: 13/100 | test_acc: \u001b[92m0.9620 ⬆ \u001b[39m | test_cost: 0.0020    | train_acc: \u001b[91m0.9510 ⬇ \u001b[39m | train_cost: 0.0030   \n",
            "\u001b[39mModel improve, EarlyStop patience reset to 0\u001b[39m\n",
            "Epoch: 14/100 | test_acc: \u001b[92m0.9630 ⬆ \u001b[39m | test_cost: 0.0020    | train_acc: \u001b[92m0.9530 ⬆ \u001b[39m | train_cost: 0.0030   \n",
            "Epoch: 15/100 | test_acc: \u001b[92m0.9640 ⬆ \u001b[39m | test_cost: 0.0020    | train_acc: \u001b[91m0.9520 ⬇ \u001b[39m | train_cost: \u001b[91m0.0020 ⬇ \u001b[39m\n",
            "Epoch: 16/100 | test_acc: \u001b[92m0.9670 ⬆ \u001b[39m | test_cost: \u001b[91m0.0010 ⬇ \u001b[39m | train_acc: \u001b[92m0.9550 ⬆ \u001b[39m | train_cost: 0.0020   \n",
            "Epoch: 17/100 | test_acc: \u001b[92m0.9700 ⬆ \u001b[39m | test_cost: 0.0010    | train_acc: \u001b[92m0.9580 ⬆ \u001b[39m | train_cost: 0.0020   \n",
            "Epoch: 18/100 | test_acc: \u001b[92m0.9730 ⬆ \u001b[39m | test_cost: 0.0010    | train_acc: 0.9580    | train_cost: 0.0020   \n",
            "Epoch: 19/100 | test_acc: 0.9730    | test_cost: 0.0010    | train_acc: \u001b[92m0.9660 ⬆ \u001b[39m | train_cost: 0.0020   \n",
            "\u001b[91mEarlyStop Patience: 1 | best test_acc: 0.9730\u001b[39m\n",
            "Epoch: 20/100 | test_acc: \u001b[92m0.9740 ⬆ \u001b[39m | test_cost: 0.0010    | train_acc: \u001b[91m0.9600 ⬇ \u001b[39m | train_cost: 0.0020   \n",
            "\u001b[39mModel improve, EarlyStop patience reset to 0\u001b[39m\n",
            "Epoch: 21/100 | test_acc: \u001b[91m0.9730 ⬇ \u001b[39m | test_cost: 0.0010    | train_acc: \u001b[92m0.9690 ⬆ \u001b[39m | train_cost: 0.0020   \n",
            "\u001b[91mEarlyStop Patience: 1 | best test_acc: 0.9740\u001b[39m\n",
            "Epoch: 22/100 | test_acc: \u001b[92m0.9770 ⬆ \u001b[39m | test_cost: 0.0010    | train_acc: \u001b[91m0.9630 ⬇ \u001b[39m | train_cost: 0.0020   \n",
            "\u001b[39mModel improve, EarlyStop patience reset to 0\u001b[39m\n",
            "Epoch: 23/100 | test_acc: \u001b[91m0.9740 ⬇ \u001b[39m | test_cost: 0.0010    | train_acc: \u001b[92m0.9700 ⬆ \u001b[39m | train_cost: 0.0020   \n",
            "\u001b[91mEarlyStop Patience: 1 | best test_acc: 0.9770\u001b[39m\n",
            "Epoch: 24/100 | test_acc: \u001b[92m0.9750 ⬆ \u001b[39m | test_cost: 0.0010    | train_acc: 0.9700    | train_cost: 0.0020   \n",
            "\u001b[91mEarlyStop Patience: 2 | best test_acc: 0.9770\u001b[39m\n",
            "Epoch: 25/100 | test_acc: \u001b[92m0.9780 ⬆ \u001b[39m | test_cost: 0.0010    | train_acc: \u001b[92m0.9730 ⬆ \u001b[39m | train_cost: 0.0020   \n",
            "\u001b[39mModel improve, EarlyStop patience reset to 0\u001b[39m\n",
            "Epoch: 26/100 | test_acc: \u001b[92m0.9790 ⬆ \u001b[39m | test_cost: 0.0010    | train_acc: \u001b[91m0.9690 ⬇ \u001b[39m | train_cost: 0.0020   \n",
            "Epoch: 27/100 | test_acc: \u001b[91m0.9780 ⬇ \u001b[39m | test_cost: 0.0010    | train_acc: \u001b[92m0.9730 ⬆ \u001b[39m | train_cost: \u001b[91m0.0010 ⬇ \u001b[39m\n",
            "\u001b[91mEarlyStop Patience: 1 | best test_acc: 0.9790\u001b[39m\n",
            "Epoch: 28/100 | test_acc: \u001b[92m0.9790 ⬆ \u001b[39m | test_cost: 0.0010    | train_acc: \u001b[91m0.9720 ⬇ \u001b[39m | train_cost: 0.0010   \n",
            "\u001b[91mEarlyStop Patience: 2 | best test_acc: 0.9790\u001b[39m\n",
            "Epoch: 29/100 | test_acc: \u001b[92m0.9840 ⬆ \u001b[39m | test_cost: 0.0010    | train_acc: 0.9720    | train_cost: \u001b[92m0.0020 ⬆ \u001b[39m\n",
            "\u001b[39mModel improve, EarlyStop patience reset to 0\u001b[39m\n",
            "EarlyStop stop at iteration on epoch 29\n",
            "Best test_acc: 0.9840\n",
            "Best model saved at ../output/model/weights_best.pth\n"
          ]
        },
        {
          "data": {
            "image/png": "[encoded data removed]",
            "text/plain": [
              "<Figure size 576x360 with 1 Axes>"
            ]
          },
          "metadata": {
            "needs_background": "light"
          },
          "output_type": "display_data"
        },
        {
          "data": {
            "image/png": "[encoded data removed]",
            "text/plain": [
              "<Figure size 576x360 with 1 Axes>"
            ]
          },
          "metadata": {
            "needs_background": "light"
          },
          "output_type": "display_data"
        },
        {
          "name": "stdout",
          "output_type": "stream",
          "text": [
            "running time: 1144.1707 seconds\n"
          ]
        }
      ],
      "source": [
        "start = time.time()\n",
        "cp.reset()\n",
        "ea.set_patience(6)\n",
        "plotting.reset_tick() \n",
        "# ctr.max_epochs = 100\n",
        "ctr.es.max_counter = 100\n",
        "ctr.optimizer = torch.optim.NAdam(ctr.model.parameters(), lr=5e-6, weight_decay=1e-5)\n",
        "\n",
        "(ctr\n",
        ".fine_tunning()\n",
        ".with_early_stopping()\n",
        ".run())\n",
        "# ctr.model.model.to(torch.device('cpu'))\n",
        "# ctr.device = torch.device('cpu')\n",
        "\n",
        "# (ctr\n",
        "#  .fine_tunning()\n",
        "#  .with_epoch()\n",
        "#  .run())\n",
        "\n",
        "print(f'running time: {(time.time() - start):.4f} seconds')"
      ]
    }
  ],
  "metadata": {
    "accelerator": "GPU",
    "colab": {
      "collapsed_sections": [],
      "provenance": []
    },
    "gpuClass": "standard",
    "kernelspec": {
      "display_name": "Python 3",
      "name": "python3"
    },
    "language_info": {
      "name": "python"
    }
  },
  "nbformat": 4,
  "nbformat_minor": 0
}
